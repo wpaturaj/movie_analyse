{
 "cells": [
  {
   "cell_type": "code",
   "execution_count": 1,
   "id": "e2d0be86",
   "metadata": {
    "scrolled": true
   },
   "outputs": [],
   "source": [
    "import psycopg2\n",
    "\n",
    "# Connect to an existing database\n",
    "connection = psycopg2.connect(user=\"\",\n",
    "                              password=\"\",\n",
    "                              host=\"postgres\",\n",
    "                              port=\"5432\",\n",
    "                              database=\"\")\n",
    "\n",
    "# Create a cursor to perform database operations\n",
    "cursor = connection.cursor()"
   ]
  },
  {
   "cell_type": "markdown",
   "id": "e138f71a",
   "metadata": {},
   "source": [
    "How many movies are in data set ?"
   ]
  },
  {
   "cell_type": "code",
   "execution_count": 2,
   "id": "cbe31021",
   "metadata": {},
   "outputs": [
    {
     "name": "stdout",
     "output_type": "stream",
     "text": [
      "(9742,)\n"
     ]
    }
   ],
   "source": [
    "cursor.execute(\n",
    "    \"\"\"\n",
    "    SELECT count(*)\n",
    "    FROM movies ;\n",
    "    \"\"\"\n",
    ")\n",
    "\n",
    "n_of_movies = cursor.fetchone()\n",
    "\n",
    "print(n_of_movies)"
   ]
  },
  {
   "cell_type": "markdown",
   "id": "da502e4f",
   "metadata": {},
   "source": [
    "What is the most common genre of movie?"
   ]
  },
  {
   "cell_type": "code",
   "execution_count": 3,
   "id": "94f240b8",
   "metadata": {},
   "outputs": [
    {
     "name": "stdout",
     "output_type": "stream",
     "text": [
      "('Drama',)\n"
     ]
    }
   ],
   "source": [
    "cursor.execute(\n",
    "    \"\"\"\n",
    "    SELECT\n",
    "       genres \n",
    "    FROM\n",
    "       movies \n",
    "    GROUP BY\n",
    "       genres \n",
    "    ORDER BY\n",
    "       COUNT(*) DESC LIMIT 1\n",
    "    \"\"\"\n",
    ")\n",
    "\n",
    "most_common_genre = cursor.fetchone()\n",
    "\n",
    "print(most_common_genre)"
   ]
  },
  {
   "cell_type": "markdown",
   "id": "42346e38",
   "metadata": {},
   "source": [
    "What are top 10 movies with highest rate ?"
   ]
  },
  {
   "cell_type": "code",
   "execution_count": 4,
   "id": "5e9e80b8",
   "metadata": {},
   "outputs": [
    {
     "name": "stdout",
     "output_type": "stream",
     "text": [
      "[('Billy Madison (1995)',), ('Star Wars: Episode IV - A New Hope (1977)',), ('Desperado (1995)',), ('Usual Suspects, The (1995)',), ('Dumb & Dumber (Dumb and Dumber) (1994)',), ('Bottle Rocket (1996)',), ('Seven (a.k.a. Se7en) (1995)',), ('Rob Roy (1995)',), ('Canadian Bacon (1995)',), ('Tommy Boy (1995)',)]\n"
     ]
    }
   ],
   "source": [
    "cursor.execute(\n",
    "    \"\"\"\n",
    "    SELECT\n",
    "       title \n",
    "    FROM\n",
    "       (\n",
    "          SELECT\n",
    "             * \n",
    "          FROM\n",
    "             \"public\".\"ratings\" \n",
    "          ORDER BY\n",
    "             rating DESC LIMIT 10 \n",
    "       )\n",
    "       AS a \n",
    "       JOIN\n",
    "          movies AS b \n",
    "          ON a.movieid = b.movieid\n",
    "    \"\"\"\n",
    ")\n",
    "\n",
    "top_10_highest_rated_films = cursor.fetchall()\n",
    "\n",
    "print(top_10_highest_rated_films)"
   ]
  },
  {
   "cell_type": "markdown",
   "id": "1d9beee6-737a-4bc3-b2dc-dca489219d3d",
   "metadata": {},
   "source": [
    "Average"
   ]
  },
  {
   "cell_type": "code",
   "execution_count": 5,
   "id": "5531cf87-91df-4397-803b-7575a480e7d1",
   "metadata": {},
   "outputs": [
    {
     "name": "stdout",
     "output_type": "stream",
     "text": [
      "[('Scooby-Doo! and the Loch Ness Monster (2004)',), ('I, the Jury (1982)',), ('Dream of Light (a.k.a. Quince Tree Sun, The) (Sol del membrillo, El) (1992)',), ('Scooby-Doo! Abracadabra-Doo (2010)',), ('7 Faces of Dr. Lao (1964)',), ('Palindromes (2004)',), ('Nasu: Summer in Andalusia (2003)',), ('Hollywood Shuffle (1987)',), ('20 Million Miles to Earth (1957)',), ('Seve (2014)',)]\n"
     ]
    }
   ],
   "source": [
    "cursor.execute(\n",
    "    \"\"\"\n",
    "    SELECT\n",
    "       title \n",
    "    FROM\n",
    "       (\n",
    "          SELECT\n",
    "             movieid \n",
    "          FROM\n",
    "             \"public\".\"ratings\" \n",
    "          GROUP BY\n",
    "             movieid \n",
    "          ORDER BY\n",
    "             AVG(rating) DESC LIMIT 10 \n",
    "       )\n",
    "       AS a \n",
    "       JOIN\n",
    "          movies AS b \n",
    "          ON a.movieid = b.movieid\n",
    "    \"\"\"\n",
    ")\n",
    "\n",
    "top_10_avg_highest_rated_films = cursor.fetchall()\n",
    "\n",
    "print(top_10_avg_highest_rated_films)"
   ]
  },
  {
   "cell_type": "markdown",
   "id": "fc07e3e0-290c-4186-bca8-56dbc1cc330a",
   "metadata": {},
   "source": [
    "What are 5 most often rating users ?"
   ]
  },
  {
   "cell_type": "code",
   "execution_count": 6,
   "id": "494da89e-2a40-4cb1-abcc-21de12846123",
   "metadata": {},
   "outputs": [
    {
     "name": "stdout",
     "output_type": "stream",
     "text": [
      "[(414,), (599,), (474,), (448,), (274,)]\n"
     ]
    }
   ],
   "source": [
    "cursor.execute(\n",
    "    \"\"\"\n",
    "    SELECT\n",
    "       userid \n",
    "    FROM\n",
    "       \"public\".\"ratings\" \n",
    "    GROUP BY\n",
    "       userid \n",
    "    ORDER BY\n",
    "       COUNT(*) DESC LIMIT 5\n",
    "    \"\"\"\n",
    ")\n",
    "\n",
    "top_5_most_often_rating_users = cursor.fetchall()\n",
    "\n",
    "print(top_5_most_often_rating_users)"
   ]
  },
  {
   "cell_type": "markdown",
   "id": "322e5be8-3b18-405b-8068-d1d449a51ee9",
   "metadata": {},
   "source": [
    "When was done first and last rate included in data set and what was the rated movie tittle?"
   ]
  },
  {
   "cell_type": "code",
   "execution_count": 7,
   "id": "46d75c57-df73-4471-acbd-cd94c8878816",
   "metadata": {},
   "outputs": [
    {
     "name": "stdout",
     "output_type": "stream",
     "text": [
      "[('Copycat (1995)', datetime.datetime(1996, 3, 29, 18, 36, 55, tzinfo=datetime.timezone.utc)), ('Crumb (1994)', datetime.datetime(2018, 9, 24, 14, 27, 30, tzinfo=datetime.timezone.utc))]\n"
     ]
    }
   ],
   "source": [
    "cursor.execute(\n",
    "    \"\"\"\n",
    "    SELECT\n",
    "       title,\n",
    "       timestamp \n",
    "    FROM\n",
    "       (\n",
    "          SELECT\n",
    "             movieid,\n",
    "             timestamp \n",
    "          FROM\n",
    "             (\n",
    "                SELECT\n",
    "                   movieid,\n",
    "                   timestamp,\n",
    "                   ROW_NUMBER() OVER(\n",
    "                ORDER BY\n",
    "                   TIMESTAMP) rn_asc,\n",
    "                   ROW_NUMBER() OVER(\n",
    "                ORDER BY\n",
    "                   TIMESTAMP DESC) rn_desc \n",
    "                FROM\n",
    "                   \"public\".\"ratings\" t \n",
    "             )\n",
    "             t \n",
    "          WHERE\n",
    "             1 IN \n",
    "             (\n",
    "                rn_asc,\n",
    "                rn_desc\n",
    "             )\n",
    "          ORDER BY\n",
    "             TIMESTAMP \n",
    "       )\n",
    "       AS a \n",
    "       JOIN\n",
    "          \"public\".\"movies\" AS b \n",
    "          ON a.movieid = b.movieid\n",
    "    \"\"\"\n",
    ")\n",
    "\n",
    "top_titles_by_dates = cursor.fetchall()\n",
    "\n",
    "print(top_titles_by_dates)"
   ]
  },
  {
   "cell_type": "markdown",
   "id": "09851afd-eef1-4c92-8bdc-f50f230c58c3",
   "metadata": {},
   "source": [
    "Find all movies released in 1990"
   ]
  },
  {
   "cell_type": "code",
   "execution_count": 8,
   "id": "9a41acbb-b437-411f-b4bb-a8e98194cb3a",
   "metadata": {},
   "outputs": [
    {
     "name": "stdout",
     "output_type": "stream",
     "text": [
      "[('Home Alone (1990)',), ('Ghost (1990)',), ('Dances with Wolves (1990)',), ('Pretty Woman (1990)',), ('Days of Thunder (1990)',), ('Grifters, The (1990)',), ('Tie Me Up! Tie Me Down! (¡Átame!) (1990)',), ('Paris Is Burning (1990)',), ('Goodfellas (1990)',), ('Trust (1990)',), ('Rosencrantz and Guildenstern Are Dead (1990)',), (\"Miller's Crossing (1990)\",), ('Femme Nikita, La (Nikita) (1990)',), ('Pump Up the Volume (1990)',), ('Cyrano de Bergerac (1990)',), ('Amityville Curse, The (1990)',), ('Die Hard 2 (1990)',), ('Young Guns II (1990)',), ('Marked for Death (1990)',), ('Hunt for Red October, The (1990)',), ('King of New York (1990)',), ('Metropolitan (1990)',), (\"Child's Play 2 (1990)\",), ('Exorcist III, The (1990)',), ('Gremlins 2: The New Batch (1990)',), ('Back to the Future Part III (1990)',), ('Godfather: Part III, The (1990)',), ('Rescuers Down Under, The (1990)',), ('NeverEnding Story II: The Next Chapter, The (1990)',), ('My Blue Heaven (1990)',), ('Sheltering Sky, The (1990)',), ('Edward Scissorhands (1990)',), ('Tales from the Darkside: The Movie (1990)',), ('Heart Condition (1990)',), ('Rocky V (1990)',), ('Dick Tracy (1990)',), ('Arachnophobia (1990)',), ('Problem Child (1990)',), ('Total Recall (1990)',), ('Guardian, The (1990)',), ('RoboCop 2 (1990)',), ('Bride of Re-Animator (1990)',), ('Repossessed (1990)',), ('Stanley & Iris (1990)',), ('Awakenings (1990)',), ('Come See the Paradise (1990)',), ('Bonfire of the Vanities (1990)',), ('Two Jakes, The (1990)',), ('Pacific Heights (1990)',), (\"Mo' Better Blues (1990)\",), ('Teenage Mutant Ninja Turtles (1990)',), (\"Jacob's Ladder (1990)\",), ('Misery (1990)',), ('All the Vermeers in New York (1990)',), ('Flatliners (1990)',), ('Predator 2 (1990)',), ('Bird on a Wire (1990)',), ('Long Walk Home, The (1990)',), ('Hamlet (1990)',), ('Hot Spot, The (1990)',), ('House Party (1990)',), ('Air America (1990)',), ('Slumber Party Massacre III (1990)',), ('Sorority House Massacre II (1990)',), ('Avalon (1990)',), ('Mermaids (1990)',), ('Navy Seals (1990)',), ('Reversal of Fortune (1990)',), ('Alice (1990)',), ('Lord of the Flies (1990)',), ('Another 48 Hrs. (1990)',), ('Russia House, The (1990)',), ('Joe Versus the Volcano (1990)',), ('Taking Care of Business (1990)',), ('Three Men and a Little Lady (1990)',), ('Cadillac Man (1990)',), ('Wild Orchid (1990)',), ('Mountains of the Moon (1990)',), ('Men at Work (1990)',), (\"Betsy's Wedding (1990)\",), ('Ernest Goes to Jail (1990)',), ('Spaced Invaders (1990)',), ('Flashback (1990)',), (\"My Father's Glory (La gloire de mon père) (1990)\",), (\"My Mother's Castle (Château de ma mère, Le) (1990)\",), ('Blue Steel (1990)',), ('Miami Blues (1990)',), ('Europa Europa (Hitlerjunge Salomon) (1990)',), ('Green Card (1990)',), (\"Akira Kurosawa's Dreams (Dreams) (1990)\",), ('Sibling Rivalry (1990)',), ('Loose Cannons (1990)',), ('I Love You to Death (1990)',), ('Tremors (1990)',), ('Angel at My Table, An (1990)',), (\"Handmaid's Tale, The (1990)\",), ('Rookie, The (1990)',), ('White Hunter, Black Heart (1990)',), ('Darkman (1990)',), ('Freshman, The (1990)',), ('Kindergarten Cop (1990)',), ('Mr. Destiny (1990)',), ('Presumed Innocent (1990)',), ('Quick Change (1990)',), ('Revenge (1990)',), ('Wild at Heart (1990)',), ('Witches, The (1990)',), ('Madhouse (1990)',), ('Adventures of Ford Fairlane, The (1990)',), ('Henry & June (1990)',), (\"Look Who's Talking Too (1990)\",), ('Twister (1990)',), ('Nightbreed (1990)',), ('Robot Jox (1990)',), ('Frankenstein Unbound (1990)',), ('Delta Force 2 (Delta Force 2: The Colombian Connection) (1990)',), ('Night of the Living Dead (1990)',), (\"Hairdresser's Husband, The (Le mari de la coiffeuse) (1990)\",), ('Book of Love (1990)',), ('Memphis Belle (1990)',), ('Almost an Angel (1990)',), ('Cry-Baby (1990)',), ('Bullet in the Head (1990)',), ('Ghost Dad (1990)',), ('It (1990)',), ('Ju Dou (1990)',), ('Krays, The (1990)',), ('Lionheart (1990)',), ('Nuns on the Run (1990)',), ('State of Grace (1990)',), ('Days of Being Wild (A Fei jingjyuhn) (1990)',), ('Begotten (1990)',), ('Quigley Down Under (1990)',), ('Captain America (1990)',), ('Hardware (1990)',), ('Match Factory Girl, The (Tulitikkutehtaan tyttö) (1990)',), ('Heaven and Earth (Ten to Chi to) (1990)',), ('Troll 2 (1990)',), ('Civil War, The (1990)',), (\"Mickey's The Prince and the Pauper (1990)\",), (\"Dragon Ball Z the Movie: The World's Strongest (a.k.a. Dragon Ball Z: The Strongest Guy in The World) (Doragon bôru Z: Kono yo de ichiban tsuyoi yatsu) (1990)\",), ('Dragon Ball Z the Movie: The Tree of Might (Doragon bôru Z 3: Chikyû marugoto chô kessen) (1990)',), ('Dragon Ball Z: Bardock - The Father of Goku (Doragon bôru Z: Tatta hitori no saishuu kessen - Furiiza ni itonda Z senshi Kakarotto no chichi) (1990)',), ('I Bought a Vampire Motorcycle (1990)',), ('Maniac Cop 2 (1990)',), ('Jetsons: The Movie (1990)',), ('The Forbidden Dance (1990)',)]\n"
     ]
    }
   ],
   "source": [
    "cursor.execute(\n",
    "    \"\"\"\n",
    "    SELECT\n",
    "       title \n",
    "    FROM\n",
    "       \"public\".\"movies\" \n",
    "    WHERE\n",
    "       substr(split_part(title, ' ', - 1), 2, 4) = '1990'\n",
    "    \"\"\"\n",
    ")\n",
    "\n",
    "movies_from_1990 = cursor.fetchall()\n",
    "\n",
    "print(movies_from_1990)"
   ]
  }
 ],
 "metadata": {
  "kernelspec": {
   "display_name": "Python 3 (ipykernel)",
   "language": "python",
   "name": "python3"
  },
  "language_info": {
   "codemirror_mode": {
    "name": "ipython",
    "version": 3
   },
   "file_extension": ".py",
   "mimetype": "text/x-python",
   "name": "python",
   "nbconvert_exporter": "python",
   "pygments_lexer": "ipython3",
   "version": "3.9.10"
  }
 },
 "nbformat": 4,
 "nbformat_minor": 5
}
